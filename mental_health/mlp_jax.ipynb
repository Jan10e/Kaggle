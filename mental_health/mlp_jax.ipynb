{
 "cells": [
  {
   "cell_type": "markdown",
   "metadata": {},
   "source": [
    "# Exploring Mental Health Data\n",
    "Source: https://www.kaggle.com/competitions/playground-series-s4e11\n",
    "\n",
    "Followed this set-up a bit. I like the flow: https://www.kaggle.com/code/oscarm524/ps-s4-ep11-eda-modeling-submission"
   ]
  },
  {
   "cell_type": "code",
   "execution_count": 282,
   "metadata": {},
   "outputs": [],
   "source": [
    "import numpy as np\n",
    "import pandas as pd\n",
    "import matplotlib.pyplot as plt\n",
    "import seaborn as sns\n",
    "from pathlib import Path\n",
    "import time\n",
    "\n",
    "from sklearn.preprocessing import StandardScaler, MinMaxScaler\n",
    "from sklearn.model_selection import train_test_split\n",
    "\n",
    "import jax\n",
    "import jax.numpy as jnp\n",
    "from jax import grad, jit, vmap\n",
    "from jax import random\n",
    "import flax.linen as nn\n",
    "from flax.training.train_state import TrainState\n",
    "import optax"
   ]
  },
  {
   "cell_type": "code",
   "execution_count": null,
   "metadata": {},
   "outputs": [],
   "source": [
    "#TODO: add the jax PU selection\n",
    "#TODO: look how to improve the model\n",
    "#TODO: look at predictions"
   ]
  },
  {
   "cell_type": "code",
   "execution_count": 283,
   "metadata": {},
   "outputs": [
    {
     "data": {
      "text/plain": [
       "((140700, 19), (93800, 18), (93800, 2))"
      ]
     },
     "execution_count": 283,
     "metadata": {},
     "output_type": "execute_result"
    }
   ],
   "source": [
    "# get data\n",
    "data_path = Path(\"~/Data/mental_health/\")\n",
    "train = pd.read_csv(data_path/ \"train.csv\", header = 0, index_col = 0)\n",
    "test = pd.read_csv(data_path/ \"test.csv\", header = 0, index_col = 0)\n",
    "submission = pd.read_csv(data_path/ \"sample_submission.csv\")\n",
    "\n",
    "\n",
    "train.shape, test.shape, submission.shape"
   ]
  },
  {
   "cell_type": "code",
   "execution_count": 284,
   "metadata": {},
   "outputs": [
    {
     "data": {
      "text/html": [
       "<div>\n",
       "<style scoped>\n",
       "    .dataframe tbody tr th:only-of-type {\n",
       "        vertical-align: middle;\n",
       "    }\n",
       "\n",
       "    .dataframe tbody tr th {\n",
       "        vertical-align: top;\n",
       "    }\n",
       "\n",
       "    .dataframe thead th {\n",
       "        text-align: right;\n",
       "    }\n",
       "</style>\n",
       "<table border=\"1\" class=\"dataframe\">\n",
       "  <thead>\n",
       "    <tr style=\"text-align: right;\">\n",
       "      <th></th>\n",
       "      <th>Name</th>\n",
       "      <th>Gender</th>\n",
       "      <th>Age</th>\n",
       "      <th>City</th>\n",
       "      <th>Working Professional or Student</th>\n",
       "      <th>Profession</th>\n",
       "      <th>Academic Pressure</th>\n",
       "      <th>Work Pressure</th>\n",
       "      <th>CGPA</th>\n",
       "      <th>Study Satisfaction</th>\n",
       "      <th>Job Satisfaction</th>\n",
       "      <th>Sleep Duration</th>\n",
       "      <th>Dietary Habits</th>\n",
       "      <th>Degree</th>\n",
       "      <th>Have you ever had suicidal thoughts ?</th>\n",
       "      <th>Work/Study Hours</th>\n",
       "      <th>Financial Stress</th>\n",
       "      <th>Family History of Mental Illness</th>\n",
       "      <th>Depression</th>\n",
       "    </tr>\n",
       "    <tr>\n",
       "      <th>id</th>\n",
       "      <th></th>\n",
       "      <th></th>\n",
       "      <th></th>\n",
       "      <th></th>\n",
       "      <th></th>\n",
       "      <th></th>\n",
       "      <th></th>\n",
       "      <th></th>\n",
       "      <th></th>\n",
       "      <th></th>\n",
       "      <th></th>\n",
       "      <th></th>\n",
       "      <th></th>\n",
       "      <th></th>\n",
       "      <th></th>\n",
       "      <th></th>\n",
       "      <th></th>\n",
       "      <th></th>\n",
       "      <th></th>\n",
       "    </tr>\n",
       "  </thead>\n",
       "  <tbody>\n",
       "    <tr>\n",
       "      <th>0</th>\n",
       "      <td>Aaradhya</td>\n",
       "      <td>Female</td>\n",
       "      <td>49.0</td>\n",
       "      <td>Ludhiana</td>\n",
       "      <td>Working Professional</td>\n",
       "      <td>Chef</td>\n",
       "      <td>NaN</td>\n",
       "      <td>5.0</td>\n",
       "      <td>NaN</td>\n",
       "      <td>NaN</td>\n",
       "      <td>2.0</td>\n",
       "      <td>More than 8 hours</td>\n",
       "      <td>Healthy</td>\n",
       "      <td>BHM</td>\n",
       "      <td>No</td>\n",
       "      <td>1.0</td>\n",
       "      <td>2.0</td>\n",
       "      <td>No</td>\n",
       "      <td>0</td>\n",
       "    </tr>\n",
       "    <tr>\n",
       "      <th>1</th>\n",
       "      <td>Vivan</td>\n",
       "      <td>Male</td>\n",
       "      <td>26.0</td>\n",
       "      <td>Varanasi</td>\n",
       "      <td>Working Professional</td>\n",
       "      <td>Teacher</td>\n",
       "      <td>NaN</td>\n",
       "      <td>4.0</td>\n",
       "      <td>NaN</td>\n",
       "      <td>NaN</td>\n",
       "      <td>3.0</td>\n",
       "      <td>Less than 5 hours</td>\n",
       "      <td>Unhealthy</td>\n",
       "      <td>LLB</td>\n",
       "      <td>Yes</td>\n",
       "      <td>7.0</td>\n",
       "      <td>3.0</td>\n",
       "      <td>No</td>\n",
       "      <td>1</td>\n",
       "    </tr>\n",
       "    <tr>\n",
       "      <th>2</th>\n",
       "      <td>Yuvraj</td>\n",
       "      <td>Male</td>\n",
       "      <td>33.0</td>\n",
       "      <td>Visakhapatnam</td>\n",
       "      <td>Student</td>\n",
       "      <td>NaN</td>\n",
       "      <td>5.0</td>\n",
       "      <td>NaN</td>\n",
       "      <td>8.97</td>\n",
       "      <td>2.0</td>\n",
       "      <td>NaN</td>\n",
       "      <td>5-6 hours</td>\n",
       "      <td>Healthy</td>\n",
       "      <td>B.Pharm</td>\n",
       "      <td>Yes</td>\n",
       "      <td>3.0</td>\n",
       "      <td>1.0</td>\n",
       "      <td>No</td>\n",
       "      <td>1</td>\n",
       "    </tr>\n",
       "    <tr>\n",
       "      <th>3</th>\n",
       "      <td>Yuvraj</td>\n",
       "      <td>Male</td>\n",
       "      <td>22.0</td>\n",
       "      <td>Mumbai</td>\n",
       "      <td>Working Professional</td>\n",
       "      <td>Teacher</td>\n",
       "      <td>NaN</td>\n",
       "      <td>5.0</td>\n",
       "      <td>NaN</td>\n",
       "      <td>NaN</td>\n",
       "      <td>1.0</td>\n",
       "      <td>Less than 5 hours</td>\n",
       "      <td>Moderate</td>\n",
       "      <td>BBA</td>\n",
       "      <td>Yes</td>\n",
       "      <td>10.0</td>\n",
       "      <td>1.0</td>\n",
       "      <td>Yes</td>\n",
       "      <td>1</td>\n",
       "    </tr>\n",
       "    <tr>\n",
       "      <th>4</th>\n",
       "      <td>Rhea</td>\n",
       "      <td>Female</td>\n",
       "      <td>30.0</td>\n",
       "      <td>Kanpur</td>\n",
       "      <td>Working Professional</td>\n",
       "      <td>Business Analyst</td>\n",
       "      <td>NaN</td>\n",
       "      <td>1.0</td>\n",
       "      <td>NaN</td>\n",
       "      <td>NaN</td>\n",
       "      <td>1.0</td>\n",
       "      <td>5-6 hours</td>\n",
       "      <td>Unhealthy</td>\n",
       "      <td>BBA</td>\n",
       "      <td>Yes</td>\n",
       "      <td>9.0</td>\n",
       "      <td>4.0</td>\n",
       "      <td>Yes</td>\n",
       "      <td>0</td>\n",
       "    </tr>\n",
       "  </tbody>\n",
       "</table>\n",
       "</div>"
      ],
      "text/plain": [
       "        Name  Gender   Age           City Working Professional or Student  \\\n",
       "id                                                                          \n",
       "0   Aaradhya  Female  49.0       Ludhiana            Working Professional   \n",
       "1      Vivan    Male  26.0       Varanasi            Working Professional   \n",
       "2     Yuvraj    Male  33.0  Visakhapatnam                         Student   \n",
       "3     Yuvraj    Male  22.0         Mumbai            Working Professional   \n",
       "4       Rhea  Female  30.0         Kanpur            Working Professional   \n",
       "\n",
       "          Profession  Academic Pressure  Work Pressure  CGPA  \\\n",
       "id                                                             \n",
       "0               Chef                NaN            5.0   NaN   \n",
       "1            Teacher                NaN            4.0   NaN   \n",
       "2                NaN                5.0            NaN  8.97   \n",
       "3            Teacher                NaN            5.0   NaN   \n",
       "4   Business Analyst                NaN            1.0   NaN   \n",
       "\n",
       "    Study Satisfaction  Job Satisfaction     Sleep Duration Dietary Habits  \\\n",
       "id                                                                           \n",
       "0                  NaN               2.0  More than 8 hours        Healthy   \n",
       "1                  NaN               3.0  Less than 5 hours      Unhealthy   \n",
       "2                  2.0               NaN          5-6 hours        Healthy   \n",
       "3                  NaN               1.0  Less than 5 hours       Moderate   \n",
       "4                  NaN               1.0          5-6 hours      Unhealthy   \n",
       "\n",
       "     Degree Have you ever had suicidal thoughts ?  Work/Study Hours  \\\n",
       "id                                                                    \n",
       "0       BHM                                    No               1.0   \n",
       "1       LLB                                   Yes               7.0   \n",
       "2   B.Pharm                                   Yes               3.0   \n",
       "3       BBA                                   Yes              10.0   \n",
       "4       BBA                                   Yes               9.0   \n",
       "\n",
       "    Financial Stress Family History of Mental Illness  Depression  \n",
       "id                                                                 \n",
       "0                2.0                               No           0  \n",
       "1                3.0                               No           1  \n",
       "2                1.0                               No           1  \n",
       "3                1.0                              Yes           1  \n",
       "4                4.0                              Yes           0  "
      ]
     },
     "execution_count": 284,
     "metadata": {},
     "output_type": "execute_result"
    }
   ],
   "source": [
    "train.head()"
   ]
  },
  {
   "cell_type": "code",
   "execution_count": 285,
   "metadata": {},
   "outputs": [
    {
     "name": "stdout",
     "output_type": "stream",
     "text": [
      "--- Percentage of Missing Values in Train ---\n",
      "\n",
      "Name                                      0.000000\n",
      "Gender                                    0.000000\n",
      "Age                                       0.000000\n",
      "City                                      0.000000\n",
      "Working Professional or Student           0.000000\n",
      "Profession                               26.034115\n",
      "Academic Pressure                        80.172708\n",
      "Work Pressure                            19.842217\n",
      "CGPA                                     80.171997\n",
      "Study Satisfaction                       80.172708\n",
      "Job Satisfaction                         19.836532\n",
      "Sleep Duration                            0.000000\n",
      "Dietary Habits                            0.002843\n",
      "Degree                                    0.001421\n",
      "Have you ever had suicidal thoughts ?     0.000000\n",
      "Work/Study Hours                          0.000000\n",
      "Financial Stress                          0.002843\n",
      "Family History of Mental Illness          0.000000\n",
      "Depression                                0.000000\n",
      "dtype: float64\n",
      "\n",
      "\n",
      "--- Percentage of Missing Values in Test ---\n",
      "\n",
      "Name                                      0.000000\n",
      "Gender                                    0.000000\n",
      "Age                                       0.000000\n",
      "City                                      0.000000\n",
      "Working Professional or Student           0.000000\n",
      "Profession                               26.260128\n",
      "Academic Pressure                        79.992537\n",
      "Work Pressure                            20.019190\n",
      "CGPA                                     79.993603\n",
      "Study Satisfaction                       79.992537\n",
      "Job Satisfaction                         20.014925\n",
      "Sleep Duration                            0.000000\n",
      "Dietary Habits                            0.005330\n",
      "Degree                                    0.002132\n",
      "Have you ever had suicidal thoughts ?     0.000000\n",
      "Work/Study Hours                          0.000000\n",
      "Financial Stress                          0.000000\n",
      "Family History of Mental Illness          0.000000\n",
      "dtype: float64\n",
      "Name                                      0.000000\n",
      "Gender                                    0.000000\n",
      "Age                                       0.000000\n",
      "City                                      0.000000\n",
      "Working Professional or Student           0.000000\n",
      "Profession                               26.260128\n",
      "Academic Pressure                        79.992537\n",
      "Work Pressure                            20.019190\n",
      "CGPA                                     79.993603\n",
      "Study Satisfaction                       79.992537\n",
      "Job Satisfaction                         20.014925\n",
      "Sleep Duration                            0.000000\n",
      "Dietary Habits                            0.005330\n",
      "Degree                                    0.002132\n",
      "Have you ever had suicidal thoughts ?     0.000000\n",
      "Work/Study Hours                          0.000000\n",
      "Financial Stress                          0.000000\n",
      "Family History of Mental Illness          0.000000\n",
      "dtype: float64\n"
     ]
    }
   ],
   "source": [
    "# Check for missing values\n",
    "print('--- Percentage of Missing Values in Train ---\\n')\n",
    "print(100*train.isnull().sum() / train.shape[0])\n",
    "print('\\n')\n",
    "print('--- Percentage of Missing Values in Test ---\\n')\n",
    "print(100*test.isnull().sum() / test.shape[0])"
   ]
  },
  {
   "cell_type": "code",
   "execution_count": 286,
   "metadata": {},
   "outputs": [
    {
     "name": "stdout",
     "output_type": "stream",
     "text": [
      "There are 0 duplicated rows in the train data frame.\n",
      "\n",
      "\n",
      "After dropping the Depression column, there are 0 duplicated rows in the train data frame.\n",
      "\n",
      "\n",
      "There are 0 duplicated rows in the test data frame.\n"
     ]
    }
   ],
   "source": [
    "# Check for duplicated rows\n",
    "print(f\"There are {sum(train.duplicated())} duplicated rows in the train data frame.\")\n",
    "\n",
    "print(\"\\n\")\n",
    "print(f\"After dropping the Depression column, there are {sum(train.drop(columns=['Depression'], axis=1).duplicated())} duplicated rows in the train data frame.\")\n",
    "\n",
    "print(\"\\n\")\n",
    "print(f\"There are {sum(test.duplicated())} duplicated rows in the test data frame.\")"
   ]
  },
  {
   "cell_type": "markdown",
   "metadata": {},
   "source": [
    "### Data Exploration ###"
   ]
  },
  {
   "cell_type": "code",
   "execution_count": 287,
   "metadata": {},
   "outputs": [
    {
     "data": {
      "image/png": "[encoded data removed]",
      "text/plain": [
       "<Figure size 1500x500 with 1 Axes>"
      ]
     },
     "metadata": {},
     "output_type": "display_data"
    }
   ],
   "source": [
    "# Plot the distribution of Depression\n",
    "fig, ax = plt.subplots(1, 1, figsize=(15, 5))\n",
    "ax = round(train['Depression'].value_counts(normalize=True) * 100, 2).plot(kind='bar', color='steelblue', edgecolor='black')\n",
    "ax.bar_label(ax.containers[0], label_type='edge', fontsize=12, padding=3)\n",
    "ax.set_ylabel(\"Percentage\", fontsize=12)\n",
    "ax.set_xlabel(\"Depression\", fontsize=12)\n",
    "ax.set_ylim(0, 100)\n",
    "ax.grid(True)\n",
    "plt.show()\n",
    "\n",
    "# We see that we have an imbalanced dataset. We will need to address this later on."
   ]
  },
  {
   "cell_type": "code",
   "execution_count": 288,
   "metadata": {},
   "outputs": [
    {
     "data": {
      "text/plain": [
       "Index(['Name', 'Gender', 'Age', 'City', 'Working Professional or Student',\n",
       "       'Profession', 'Academic Pressure', 'Work Pressure', 'CGPA',\n",
       "       'Study Satisfaction', 'Job Satisfaction', 'Sleep Duration',\n",
       "       'Dietary Habits', 'Degree', 'Have you ever had suicidal thoughts ?',\n",
       "       'Work/Study Hours', 'Financial Stress',\n",
       "       'Family History of Mental Illness', 'Depression'],\n",
       "      dtype='object')"
      ]
     },
     "execution_count": 288,
     "metadata": {},
     "output_type": "execute_result"
    }
   ],
   "source": [
    "train.columns"
   ]
  },
  {
   "cell_type": "code",
   "execution_count": 289,
   "metadata": {},
   "outputs": [
    {
     "name": "stdout",
     "output_type": "stream",
     "text": [
      "Name: 422 unique values\n",
      "Gender: 2 unique values\n",
      "City: 98 unique values\n",
      "Working Professional or Student: 2 unique values\n",
      "Profession: 64 unique values\n",
      "Sleep Duration: 36 unique values\n",
      "Dietary Habits: 23 unique values\n",
      "Degree: 115 unique values\n",
      "Have you ever had suicidal thoughts ?: 2 unique values\n",
      "Family History of Mental Illness: 2 unique values\n",
      "Have you ever had suicidal thoughts ?: 2 unique values\n",
      "Family History of Mental Illness: 2 unique values\n"
     ]
    }
   ],
   "source": [
    "# For the categorical variables, count the number of unique values\n",
    "for col in train.columns:\n",
    "    if train[col].dtype == 'object':\n",
    "        print(f\"{col}: {train[col].nunique()} unique values\")"
   ]
  },
  {
   "cell_type": "code",
   "execution_count": 290,
   "metadata": {},
   "outputs": [
    {
     "data": {
      "image/png": "[encoded data removed]",
      "text/plain": [
       "<Figure size 2000x500 with 8 Axes>"
      ]
     },
     "metadata": {},
     "output_type": "display_data"
    }
   ],
   "source": [
    "# Look at the relationship between the features and the target variable\n",
    "fig, ax = plt.subplots(1, 4, figsize=(20, 5))\n",
    "\n",
    "cmap = sns.color_palette(\"coolwarm\", as_cmap=True)\n",
    "\n",
    "sns.heatmap(data=round(100*pd.crosstab(train['Gender'], train['Depression'], normalize=0), 2), annot=True, cmap=cmap, fmt='.0f', ax=ax[0])\n",
    "sns.heatmap(data=round(100*pd.crosstab(train['Working Professional or Student'], train['Depression'], normalize=0), 2), annot=True, cmap=cmap, fmt='.0f', ax=ax[1])\n",
    "sns.heatmap(data=round(100*pd.crosstab(train[\"Have you ever had suicidal thoughts ?\"], train['Depression'], normalize=0), 2), annot=True, cmap=cmap, fmt='.0f', ax=ax[2])\n",
    "sns.heatmap(data=round(100*pd.crosstab(train[\"Family History of Mental Illness\"], train['Depression'], normalize=0), 2), annot=True, cmap=cmap, fmt='.0f', ax=ax[3])\n",
    "plt.show()"
   ]
  },
  {
   "cell_type": "code",
   "execution_count": 291,
   "metadata": {},
   "outputs": [
    {
     "data": {
      "text/plain": [
       "Name                                      object\n",
       "Gender                                    object\n",
       "Age                                      float64\n",
       "City                                      object\n",
       "Working Professional or Student           object\n",
       "Profession                                object\n",
       "Academic Pressure                        float64\n",
       "Work Pressure                            float64\n",
       "CGPA                                     float64\n",
       "Study Satisfaction                       float64\n",
       "Job Satisfaction                         float64\n",
       "Sleep Duration                            object\n",
       "Dietary Habits                            object\n",
       "Degree                                    object\n",
       "Have you ever had suicidal thoughts ?     object\n",
       "Work/Study Hours                         float64\n",
       "Financial Stress                         float64\n",
       "Family History of Mental Illness          object\n",
       "Depression                                 int64\n",
       "dtype: object"
      ]
     },
     "execution_count": 291,
     "metadata": {},
     "output_type": "execute_result"
    }
   ],
   "source": [
    "train.dtypes"
   ]
  },
  {
   "cell_type": "code",
   "execution_count": 292,
   "metadata": {},
   "outputs": [
    {
     "data": {
      "image/png": "[encoded data removed]",
      "text/plain": [
       "<Figure size 2000x500 with 4 Axes>"
      ]
     },
     "metadata": {},
     "output_type": "display_data"
    }
   ],
   "source": [
    "fig, ax = plt.subplots(1, 4, figsize=(20, 5))\n",
    "sns.boxplot(x='Depression', y='Age', data=train, hue=\"Depression\", ax=ax[0])\n",
    "sns.boxplot(x='Depression', y='Work/Study Hours', data=train, hue=\"Depression\", ax=ax[1])\n",
    "sns.boxplot(x='Depression', y='Financial Stress', data=train, hue=\"Depression\", ax=ax[2])\n",
    "sns.boxplot(x='Depression', y='Job Satisfaction', data=train, hue=\"Depression\", ax=ax[3])\n",
    "plt.show()"
   ]
  },
  {
   "cell_type": "markdown",
   "metadata": {},
   "source": [
    "## Preparing Data\n",
    "\n",
    "I will be using the continuous data and categorical data with only two categories to keep it simple."
   ]
  },
  {
   "cell_type": "code",
   "execution_count": 293,
   "metadata": {},
   "outputs": [
    {
     "name": "stdout",
     "output_type": "stream",
     "text": [
      "Name: 422 unique values\n",
      "Gender: 2 unique values\n",
      "City: 98 unique values\n",
      "Working Professional or Student: 2 unique values\n",
      "Profession: 64 unique values\n",
      "Sleep Duration: 36 unique values\n",
      "Dietary Habits: 23 unique values\n",
      "Degree: 115 unique values\n",
      "Have you ever had suicidal thoughts ?: 2 unique values\n",
      "Family History of Mental Illness: 2 unique values\n"
     ]
    }
   ],
   "source": [
    "# Count the number of unique values for each categorical variable\n",
    "for col in train.columns:\n",
    "    if train[col].dtype == 'object':\n",
    "        print(f\"{col}: {train[col].nunique()} unique values\")"
   ]
  },
  {
   "cell_type": "code",
   "execution_count": 294,
   "metadata": {},
   "outputs": [],
   "source": [
    "# Select the columns that are continuous and have 2 categories\n",
    "selected_columns = [\n",
    "    'Gender', \n",
    "    'Working Professional or Student', \n",
    "    'Have you ever had suicidal thoughts ?', \n",
    "    'Family History of Mental Illness', \n",
    "    'Age', \n",
    "    'Work/Study Hours', \n",
    "    'Financial Stress', \n",
    "    'Job Satisfaction', \n",
    "]\n",
    "\n",
    "# Prepare the data for training\n",
    "X = train[selected_columns]\n",
    "y = train['Depression']\n",
    "\n",
    "# Drop the same columns from the test set\n",
    "test_selected = test[selected_columns]"
   ]
  },
  {
   "cell_type": "code",
   "execution_count": 295,
   "metadata": {},
   "outputs": [],
   "source": [
    "# One-hot encode the categorical variables\n",
    "\n",
    "# Combine train and test to ensure consistent one-hot encoding\n",
    "combined = pd.concat([X, test_selected], keys=['train', 'test'])\n",
    "\n",
    "# One-hot encode the categorical variables\n",
    "cat_cols = ['Gender', 'Working Professional or Student', 'Have you ever had suicidal thoughts ?', 'Family History of Mental Illness']\n",
    "combined = pd.get_dummies(combined, columns=cat_cols, drop_first=True)\n",
    "\n",
    "# Split back into train and test sets\n",
    "X = combined.xs('train')\n",
    "test_selected = combined.xs('test')"
   ]
  },
  {
   "cell_type": "code",
   "execution_count": 296,
   "metadata": {},
   "outputs": [
    {
     "name": "stdout",
     "output_type": "stream",
     "text": [
      "--- Percentage of Missing Values in X_train ---\n",
      "\n",
      "Age                                                         0\n",
      "Work/Study Hours                                            0\n",
      "Financial Stress                                            4\n",
      "Job Satisfaction                                        27910\n",
      "Gender_Male                                                 0\n",
      "Working Professional or Student_Working Professional        0\n",
      "Have you ever had suicidal thoughts ?_Yes                   0\n",
      "Family History of Mental Illness_Yes                        0\n",
      "dtype: int64\n",
      "\n",
      "\n",
      "--- Percentage of Missing Values in y_train ---\n",
      "\n",
      "0\n",
      "Age                                                         0\n",
      "Work/Study Hours                                            0\n",
      "Financial Stress                                            4\n",
      "Job Satisfaction                                        27910\n",
      "Gender_Male                                                 0\n",
      "Working Professional or Student_Working Professional        0\n",
      "Have you ever had suicidal thoughts ?_Yes                   0\n",
      "Family History of Mental Illness_Yes                        0\n",
      "dtype: int64\n",
      "\n",
      "\n",
      "--- Percentage of Missing Values in y_train ---\n",
      "\n",
      "0\n"
     ]
    }
   ],
   "source": [
    "# Check for NaNs in the data\n",
    "print('--- Percentage of Missing Values in X_train ---\\n')\n",
    "print(X.isna().sum())\n",
    "print('\\n')\n",
    "print('--- Percentage of Missing Values in y_train ---\\n')\n",
    "print(y.isna().sum())"
   ]
  },
  {
   "cell_type": "code",
   "execution_count": 297,
   "metadata": {},
   "outputs": [],
   "source": [
    "# Fill missing values with the mean of the column for numeric columns\n",
    "X = X.fillna(X.mean())\n",
    "test_selected = test_selected.fillna(test_selected.mean())\n",
    "\n",
    "# Ensure all values are numeric\n",
    "X = X.apply(pd.to_numeric, errors='coerce')\n",
    "test_selected = test_selected.apply(pd.to_numeric, errors='coerce')"
   ]
  },
  {
   "cell_type": "code",
   "execution_count": 298,
   "metadata": {},
   "outputs": [
    {
     "data": {
      "text/html": [
       "<div>\n",
       "<style scoped>\n",
       "    .dataframe tbody tr th:only-of-type {\n",
       "        vertical-align: middle;\n",
       "    }\n",
       "\n",
       "    .dataframe tbody tr th {\n",
       "        vertical-align: top;\n",
       "    }\n",
       "\n",
       "    .dataframe thead th {\n",
       "        text-align: right;\n",
       "    }\n",
       "</style>\n",
       "<table border=\"1\" class=\"dataframe\">\n",
       "  <thead>\n",
       "    <tr style=\"text-align: right;\">\n",
       "      <th></th>\n",
       "      <th>Age</th>\n",
       "      <th>Work/Study Hours</th>\n",
       "      <th>Financial Stress</th>\n",
       "      <th>Job Satisfaction</th>\n",
       "      <th>Gender_Male</th>\n",
       "      <th>Working Professional or Student_Working Professional</th>\n",
       "      <th>Have you ever had suicidal thoughts ?_Yes</th>\n",
       "      <th>Family History of Mental Illness_Yes</th>\n",
       "    </tr>\n",
       "  </thead>\n",
       "  <tbody>\n",
       "    <tr>\n",
       "      <th>count</th>\n",
       "      <td>140700.000000</td>\n",
       "      <td>140700.000000</td>\n",
       "      <td>140700.000000</td>\n",
       "      <td>140700.000000</td>\n",
       "      <td>140700.000000</td>\n",
       "      <td>140700.000000</td>\n",
       "      <td>140700.000000</td>\n",
       "      <td>140700.000000</td>\n",
       "    </tr>\n",
       "    <tr>\n",
       "      <th>mean</th>\n",
       "      <td>40.388621</td>\n",
       "      <td>6.252679</td>\n",
       "      <td>2.988983</td>\n",
       "      <td>2.974404</td>\n",
       "      <td>0.550561</td>\n",
       "      <td>0.801699</td>\n",
       "      <td>0.494399</td>\n",
       "      <td>0.497100</td>\n",
       "    </tr>\n",
       "    <tr>\n",
       "      <th>std</th>\n",
       "      <td>12.384099</td>\n",
       "      <td>3.853615</td>\n",
       "      <td>1.413613</td>\n",
       "      <td>1.267871</td>\n",
       "      <td>0.497439</td>\n",
       "      <td>0.398722</td>\n",
       "      <td>0.499970</td>\n",
       "      <td>0.499993</td>\n",
       "    </tr>\n",
       "    <tr>\n",
       "      <th>min</th>\n",
       "      <td>18.000000</td>\n",
       "      <td>0.000000</td>\n",
       "      <td>1.000000</td>\n",
       "      <td>1.000000</td>\n",
       "      <td>0.000000</td>\n",
       "      <td>0.000000</td>\n",
       "      <td>0.000000</td>\n",
       "      <td>0.000000</td>\n",
       "    </tr>\n",
       "    <tr>\n",
       "      <th>25%</th>\n",
       "      <td>29.000000</td>\n",
       "      <td>3.000000</td>\n",
       "      <td>2.000000</td>\n",
       "      <td>2.000000</td>\n",
       "      <td>0.000000</td>\n",
       "      <td>1.000000</td>\n",
       "      <td>0.000000</td>\n",
       "      <td>0.000000</td>\n",
       "    </tr>\n",
       "    <tr>\n",
       "      <th>50%</th>\n",
       "      <td>42.000000</td>\n",
       "      <td>6.000000</td>\n",
       "      <td>3.000000</td>\n",
       "      <td>2.974404</td>\n",
       "      <td>1.000000</td>\n",
       "      <td>1.000000</td>\n",
       "      <td>0.000000</td>\n",
       "      <td>0.000000</td>\n",
       "    </tr>\n",
       "    <tr>\n",
       "      <th>75%</th>\n",
       "      <td>51.000000</td>\n",
       "      <td>10.000000</td>\n",
       "      <td>4.000000</td>\n",
       "      <td>4.000000</td>\n",
       "      <td>1.000000</td>\n",
       "      <td>1.000000</td>\n",
       "      <td>1.000000</td>\n",
       "      <td>1.000000</td>\n",
       "    </tr>\n",
       "    <tr>\n",
       "      <th>max</th>\n",
       "      <td>60.000000</td>\n",
       "      <td>12.000000</td>\n",
       "      <td>5.000000</td>\n",
       "      <td>5.000000</td>\n",
       "      <td>1.000000</td>\n",
       "      <td>1.000000</td>\n",
       "      <td>1.000000</td>\n",
       "      <td>1.000000</td>\n",
       "    </tr>\n",
       "  </tbody>\n",
       "</table>\n",
       "</div>"
      ],
      "text/plain": [
       "                 Age  Work/Study Hours  Financial Stress  Job Satisfaction  \\\n",
       "count  140700.000000     140700.000000     140700.000000     140700.000000   \n",
       "mean       40.388621          6.252679          2.988983          2.974404   \n",
       "std        12.384099          3.853615          1.413613          1.267871   \n",
       "min        18.000000          0.000000          1.000000          1.000000   \n",
       "25%        29.000000          3.000000          2.000000          2.000000   \n",
       "50%        42.000000          6.000000          3.000000          2.974404   \n",
       "75%        51.000000         10.000000          4.000000          4.000000   \n",
       "max        60.000000         12.000000          5.000000          5.000000   \n",
       "\n",
       "         Gender_Male  Working Professional or Student_Working Professional  \\\n",
       "count  140700.000000                                      140700.000000      \n",
       "mean        0.550561                                           0.801699      \n",
       "std         0.497439                                           0.398722      \n",
       "min         0.000000                                           0.000000      \n",
       "25%         0.000000                                           1.000000      \n",
       "50%         1.000000                                           1.000000      \n",
       "75%         1.000000                                           1.000000      \n",
       "max         1.000000                                           1.000000      \n",
       "\n",
       "       Have you ever had suicidal thoughts ?_Yes  \\\n",
       "count                              140700.000000   \n",
       "mean                                    0.494399   \n",
       "std                                     0.499970   \n",
       "min                                     0.000000   \n",
       "25%                                     0.000000   \n",
       "50%                                     0.000000   \n",
       "75%                                     1.000000   \n",
       "max                                     1.000000   \n",
       "\n",
       "       Family History of Mental Illness_Yes  \n",
       "count                         140700.000000  \n",
       "mean                               0.497100  \n",
       "std                                0.499993  \n",
       "min                                0.000000  \n",
       "25%                                0.000000  \n",
       "50%                                0.000000  \n",
       "75%                                1.000000  \n",
       "max                                1.000000  "
      ]
     },
     "execution_count": 298,
     "metadata": {},
     "output_type": "execute_result"
    }
   ],
   "source": [
    "X.describe()"
   ]
  },
  {
   "cell_type": "code",
   "execution_count": 299,
   "metadata": {},
   "outputs": [],
   "source": [
    "# Separate continuous and categorical features\n",
    "continuous_features = ['Age', 'Work/Study Hours', 'Financial Stress', 'Job Satisfaction']\n",
    "categorical_features = [col for col in X.columns if col not in continuous_features]\n",
    "\n",
    "# Apply StandardScaler to continuous features\n",
    "scaler = StandardScaler()\n",
    "X_continuous = scaler.fit_transform(X[continuous_features])\n",
    "test_selected_continuous = scaler.transform(test_selected[continuous_features])\n",
    "\n",
    "# Combine scaled continuous features and categorical features\n",
    "X_combined = np.hstack((X_continuous, X[categorical_features].values))\n",
    "test_selected_combined = np.hstack((test_selected_continuous, test_selected[categorical_features].values))\n"
   ]
  },
  {
   "cell_type": "code",
   "execution_count": 300,
   "metadata": {},
   "outputs": [],
   "source": [
    "# Split data into training and validation sets -> 80% train, 20% validation\n",
    "train_size = int(0.8 * len(X_combined))\n",
    "X_train, X_test = X_combined[:train_size], X_combined[train_size:]\n",
    "y_train, y_test = y.values[:train_size], y.values[train_size:]"
   ]
  },
  {
   "cell_type": "code",
   "execution_count": 301,
   "metadata": {},
   "outputs": [],
   "source": [
    "# Convert data into JAX arrays with specified dtype\n",
    "X_train_arr = jnp.array(X_train, dtype=jnp.float32)\n",
    "y_train_arr = jnp.array(y_train, dtype=jnp.float32).reshape(-1, 1)\n",
    "X_test_arr = jnp.array(X_test, dtype=jnp.float32)\n",
    "y_test_arr = jnp.array(y_test, dtype=jnp.float32).reshape(-1, 1)\n"
   ]
  },
  {
   "cell_type": "markdown",
   "metadata": {},
   "source": [
    "## Create MLP using JAX\n",
    "Creating a simple fully connected neural network in JAX/FLAX for predicting depression (binary classification)"
   ]
  },
  {
   "cell_type": "code",
   "execution_count": 302,
   "metadata": {},
   "outputs": [],
   "source": [
    "# Define Neural Network (MLP)\n",
    "class SimpleMLP(nn.Module):\n",
    "    hidden_size: int\n",
    "    output_size: int  # 1 for binary classification\n",
    "\n",
    "    # Define the MLP cell\n",
    "    def setup(self):\n",
    "        self.hidden_layer = nn.Dense(features=self.hidden_size)\n",
    "        self.output_layer = nn.Dense(features=self.output_size)\n",
    "\n",
    "    def __call__(self, x):\n",
    "        x = self.hidden_layer(x)\n",
    "        x = nn.relu(x)\n",
    "        x = self.output_layer(x)\n",
    "        return x"
   ]
  },
  {
   "cell_type": "markdown",
   "metadata": {},
   "source": [
    "## Model Initialisation\n",
    "In FLAX, you have to manually create and update train_state, which holds all the model's variables.\n",
    "In Jax, you need a training state to encapsulate the model parameters, optimizer state, and \n",
    "apply function. This is easier to manage the JIT compliation and training loop."
   ]
  },
  {
   "cell_type": "code",
   "execution_count": 303,
   "metadata": {},
   "outputs": [],
   "source": [
    "# Create training state\n",
    "def create_train_state(rng, X_train):\n",
    "    X_batch = X_train[:1, :]  # Take a batch of the data to get the input size\n",
    "    model = SimpleMLP(hidden_size=64, output_size=1)\n",
    "    params = model.init(rng, X_batch)[\"params\"]\n",
    "    tx = optax.adam(learning_rate=1e-3)\n",
    "    return TrainState.create(apply_fn=model.apply, params=params, tx=tx)\n"
   ]
  },
  {
   "cell_type": "code",
   "execution_count": 304,
   "metadata": {},
   "outputs": [],
   "source": [
    "# Initialis the training state\n",
    "rng = jax.random.PRNGKey(0)\n",
    "train_state = create_train_state(rng, X_train_arr)"
   ]
  },
  {
   "cell_type": "markdown",
   "metadata": {},
   "source": [
    "## Loss & Metrics calculations\n",
    "Create the functions which calculates the training loss and the accuracy using the given predicted values and labels\n"
   ]
  },
  {
   "cell_type": "code",
   "execution_count": 305,
   "metadata": {},
   "outputs": [],
   "source": [
    "# Set up Training Loop, Loss Function and Optimizer\n",
    "@jax.jit\n",
    "def binary_cross_entropy_loss(logits, labels):\n",
    "    # Compute binary cross-entropy loss\n",
    "    preds = jax.nn.sigmoid(logits)  # Sigmoid activation function to get probabilities\n",
    "    epsilon = 1e-7  # Small value to avoid log(0)\n",
    "    loss = -jnp.mean(labels * jnp.log(preds + epsilon) + (1 - labels) * jnp.log(1 - preds + epsilon))\n",
    "    return loss\n",
    "\n",
    "\n",
    "# Forward pass and loss calculation (no need to pass the model class)\n",
    "@jax.jit\n",
    "def compute_loss(params, batch):\n",
    "    features, labels = batch\n",
    "    logits = train_state.apply_fn({'params': params}, features)  # Get raw logits from the model\n",
    "    return binary_cross_entropy_loss(logits, labels)\n"
   ]
  },
  {
   "cell_type": "markdown",
   "metadata": {},
   "source": [
    "## Training"
   ]
  },
  {
   "cell_type": "code",
   "execution_count": 306,
   "metadata": {},
   "outputs": [],
   "source": [
    "# Training step function (do not pass the model itself)\n",
    "@jax.jit\n",
    "def train_step(state, batch):\n",
    "    loss, grads = jax.value_and_grad(compute_loss)(state.params, batch)  # Compute loss and gradients\n",
    "    state = state.apply_gradients(grads=grads)  # Apply updates to the model parameters\n",
    "    return loss, state\n",
    "\n",
    "# Validation step function\n",
    "@jax.jit\n",
    "def validate(params, batch):\n",
    "    features, labels = batch\n",
    "    logits = train_state.apply_fn({'params': params}, features)  # Get raw logits from the model\n",
    "    loss = binary_cross_entropy_loss(logits, labels)\n",
    "    return loss\n",
    "\n",
    "# Accuracy calculation\n",
    "def calculate_accuracy(logits, labels):\n",
    "    preds = jax.nn.sigmoid(logits)\n",
    "    predicted_classes = preds > 0.5\n",
    "    return jnp.mean(predicted_classes == labels)"
   ]
  },
  {
   "cell_type": "code",
   "execution_count": 307,
   "metadata": {},
   "outputs": [],
   "source": [
    "# # Set batch size and number of epochs\n",
    "# batch_size = 32 \n",
    "# num_epochs = 10 \n",
    "\n",
    "# # Training loop\n",
    "# start = time.time()\n",
    "# for epoch in range(num_epochs):\n",
    "#     # Shuffle data for each epoch\n",
    "#     idx = jax.random.permutation(rng, X_train_arr.shape[0])\n",
    "#     X_train_arr, y_train_arr = X_train_arr[idx], y_train_arr[idx]\n",
    "\n",
    "#     # Iterate over batches\n",
    "#     for i in range(0, len(X_train_arr), batch_size):\n",
    "#         batch_features = X_train_arr[i:i + batch_size]\n",
    "#         batch_labels = y_train_arr[i:i + batch_size]\n",
    "#         batch = (batch_features, batch_labels)\n",
    "\n",
    "#         # Perform one training step\n",
    "#         loss, train_state = train_step(train_state, batch)\n",
    "\n",
    "#     print(f\"Epoch {epoch+1}, Loss: {loss}\")\n",
    "\n",
    "# print(\"Total time: \", time.time() - start, \"seconds\")"
   ]
  },
  {
   "cell_type": "code",
   "execution_count": 308,
   "metadata": {},
   "outputs": [],
   "source": [
    "# # Set batch size and number of epochs\n",
    "# batch_size = 32 \n",
    "# num_epochs = 20  # Increased number of epochs\n",
    "\n",
    "# # Training loop with validation\n",
    "# train_losses, val_losses = [], []\n",
    "# start = time.time()\n",
    "# for epoch in range(num_epochs):\n",
    "#     # Shuffle data for each epoch\n",
    "#     idx = jax.random.permutation(rng, X_train_arr.shape[0])\n",
    "#     X_train_arr, y_train_arr = X_train_arr[idx], y_train_arr[idx]\n",
    "\n",
    "#     # Training\n",
    "#     train_loss = 0.0\n",
    "#     for i in range(0, len(X_train_arr), batch_size):\n",
    "#         batch_features = X_train_arr[i:i + batch_size]\n",
    "#         batch_labels = y_train_arr[i:i + batch_size]\n",
    "#         batch = (batch_features, batch_labels)\n",
    "\n",
    "#         # Perform one training step\n",
    "#         loss, train_state = train_step(train_state, batch)\n",
    "#         train_loss += loss\n",
    "\n",
    "#     train_loss /= (len(X_train_arr) // batch_size)\n",
    "#     train_losses.append(train_loss)\n",
    "\n",
    "#     # Validation\n",
    "#     val_loss = 0.0\n",
    "#     for i in range(0, len(X_test_arr), batch_size):\n",
    "#         batch_features = X_test_arr[i:i + batch_size]\n",
    "#         batch_labels = y_test_arr[i:i + batch_size]\n",
    "#         batch = (batch_features, batch_labels)\n",
    "\n",
    "#         # Perform one validation step\n",
    "#         loss = validate(train_state.params, batch)\n",
    "#         val_loss += loss\n",
    "\n",
    "#     val_loss /= (len(X_test_arr) // batch_size)\n",
    "#     val_losses.append(val_loss)\n",
    "\n",
    "#     print(f\"Epoch {epoch+1}/{num_epochs}, Training Loss: {train_loss:.4f}, Validation Loss: {val_loss:.4f}\")\n",
    "\n",
    "# print(\"Total time: \", time.time() - start, \"seconds\")"
   ]
  },
  {
   "cell_type": "code",
   "execution_count": null,
   "metadata": {},
   "outputs": [
    {
     "name": "stdout",
     "output_type": "stream",
     "text": [
      "Epoch 1/20, Training Loss: 0.2044, Validation Loss: 0.1878, Training Accuracy: 0.9164, Validation Accuracy: 0.9250\n",
      "Epoch 2/20, Training Loss: 0.1873, Validation Loss: 0.1882, Training Accuracy: 0.9235, Validation Accuracy: 0.9236\n",
      "Epoch 3/20, Training Loss: 0.1866, Validation Loss: 0.1857, Training Accuracy: 0.9242, Validation Accuracy: 0.9253\n",
      "Epoch 4/20, Training Loss: 0.1862, Validation Loss: 0.1859, Training Accuracy: 0.9243, Validation Accuracy: 0.9252\n",
      "Epoch 5/20, Training Loss: 0.1860, Validation Loss: 0.1869, Training Accuracy: 0.9245, Validation Accuracy: 0.9244\n",
      "Epoch 6/20, Training Loss: 0.1859, Validation Loss: 0.1865, Training Accuracy: 0.9241, Validation Accuracy: 0.9239\n",
      "Epoch 7/20, Training Loss: 0.1858, Validation Loss: 0.1858, Training Accuracy: 0.9245, Validation Accuracy: 0.9250\n",
      "Epoch 8/20, Training Loss: 0.1856, Validation Loss: 0.1863, Training Accuracy: 0.9240, Validation Accuracy: 0.9245\n",
      "Epoch 9/20, Training Loss: 0.1856, Validation Loss: 0.1866, Training Accuracy: 0.9242, Validation Accuracy: 0.9243\n",
      "Epoch 10/20, Training Loss: 0.1854, Validation Loss: 0.1860, Training Accuracy: 0.9245, Validation Accuracy: 0.9246\n"
     ]
    }
   ],
   "source": [
    "# Set batch size and number of epochs\n",
    "batch_size = 32 \n",
    "num_epochs = 20  # Increased number of epochs\n",
    "\n",
    "# Training loop with validation\n",
    "train_losses, val_losses = [], []\n",
    "train_accuracies, val_accuracies = [], []\n",
    "start = time.time()\n",
    "for epoch in range(num_epochs):\n",
    "    # Shuffle data for each epoch\n",
    "    idx = jax.random.permutation(rng, X_train_arr.shape[0])\n",
    "    X_train_arr, y_train_arr = X_train_arr[idx], y_train_arr[idx]\n",
    "\n",
    "    # Training\n",
    "    train_loss = 0.0\n",
    "    train_accuracy = 0.0\n",
    "    for i in range(0, len(X_train_arr), batch_size):\n",
    "        batch_features = X_train_arr[i:i + batch_size]\n",
    "        batch_labels = y_train_arr[i:i + batch_size]\n",
    "        batch = (batch_features, batch_labels)\n",
    "\n",
    "        # Perform one training step\n",
    "        loss, train_state = train_step(train_state, batch)\n",
    "        train_loss += loss\n",
    "\n",
    "        # Calculate accuracy\n",
    "        logits = train_state.apply_fn({'params': train_state.params}, batch_features)\n",
    "        train_accuracy += calculate_accuracy(logits, batch_labels)\n",
    "\n",
    "    train_loss /= (len(X_train_arr) // batch_size)\n",
    "    train_accuracy /= (len(X_train_arr) // batch_size)\n",
    "    train_losses.append(train_loss)\n",
    "    train_accuracies.append(train_accuracy)\n",
    "\n",
    "    # Validation\n",
    "    val_loss = 0.0\n",
    "    val_accuracy = 0.0\n",
    "    for i in range(0, len(X_test_arr), batch_size):\n",
    "        batch_features = X_test_arr[i:i + batch_size]\n",
    "        batch_labels = y_test_arr[i:i + batch_size]\n",
    "        batch = (batch_features, batch_labels)\n",
    "\n",
    "        # Perform one validation step\n",
    "        loss = validate(train_state.params, batch)\n",
    "        val_loss += loss\n",
    "\n",
    "        # Calculate accuracy\n",
    "        logits = train_state.apply_fn({'params': train_state.params}, batch_features)\n",
    "        val_accuracy += calculate_accuracy(logits, batch_labels)\n",
    "\n",
    "    val_loss /= (len(X_test_arr) // batch_size)\n",
    "    val_accuracy /= (len(X_test_arr) // batch_size)\n",
    "    val_losses.append(val_loss)\n",
    "    val_accuracies.append(val_accuracy)\n",
    "\n",
    "    print(f\"Epoch {epoch+1}/{num_epochs}, Training Loss: {train_loss:.4f}, Validation Loss: {val_loss:.4f}, Training Accuracy: {train_accuracy:.4f}, Validation Accuracy: {val_accuracy:.4f}\")\n",
    "\n",
    "print(\"Total time: \", time.time() - start, \"seconds\")"
   ]
  },
  {
   "cell_type": "code",
   "execution_count": null,
   "metadata": {},
   "outputs": [
    {
     "data": {
      "image/png": "[encoded data removed]",
      "text/plain": [
       "<Figure size 1200x300 with 2 Axes>"
      ]
     },
     "metadata": {},
     "output_type": "display_data"
    }
   ],
   "source": [
    "# # Plotting the training and validation loss\n",
    "# fig, ax = plt.subplots(1, 2, figsize=(12, 3))\n",
    "# ax[0].plot(train_losses, color='b', label=\"Training loss\")\n",
    "# ax[0].plot(val_losses, color='r', label=\"Validation loss\")\n",
    "# ax[0].legend(loc='best', shadow=True)\n",
    "# ax[0].set_title(\"All epochs\")\n",
    "# ax[1].plot(train_losses[1:], color='b', label=\"Training loss\")\n",
    "# ax[1].plot(val_losses[1:], color='r', label=\"Validation loss\")\n",
    "# ax[1].legend(loc='best', shadow=True)\n",
    "# ax[1].set_title(\"Epochs 1-end\")\n",
    "# plt.show()"
   ]
  },
  {
   "cell_type": "code",
   "execution_count": null,
   "metadata": {},
   "outputs": [],
   "source": [
    "# Plotting the training and validation loss and accuracy\n",
    "fig, ax = plt.subplots(2, 2, figsize=(12, 10))\n",
    "ax[0, 0].plot(train_losses, color='b', label=\"Training loss\")\n",
    "ax[0, 0].plot(val_losses, color='r', label=\"Validation loss\")\n",
    "ax[0, 0].legend(loc='best', shadow=True)\n",
    "ax[0, 0].set_title(\"Loss - All epochs\")\n",
    "ax[0, 1].plot(train_losses[1:], color='b', label=\"Training loss\")\n",
    "ax[0, 1].plot(val_losses[1:], color='r', label=\"Validation loss\")\n",
    "ax[0, 1].legend(loc='best', shadow=True)\n",
    "ax[0, 1].set_title(\"Loss - Epochs 1-end\")\n",
    "ax[1, 0].plot(train_accuracies, color='b', label=\"Training accuracy\")\n",
    "ax[1, 0].plot(val_accuracies, color='r', label=\"Validation accuracy\")\n",
    "ax[1, 0].legend(loc='best', shadow=True)\n",
    "ax[1, 0].set_title(\"Accuracy - All epochs\")\n",
    "ax[1, 1].plot(train_accuracies[1:], color='b', label=\"Training accuracy\")\n",
    "ax[1, 1].plot(val_accuracies[1:], color='r', label=\"Validation accuracy\")\n",
    "ax[1, 1].legend(loc='best', shadow=True)\n",
    "ax[1, 1].set_title(\"Accuracy - Epochs 1-end\")\n",
    "plt.show()"
   ]
  },
  {
   "cell_type": "code",
   "execution_count": null,
   "metadata": {},
   "outputs": [
    {
     "name": "stdout",
     "output_type": "stream",
     "text": [
      "[[0.02936059]\n",
      " [0.00958343]\n",
      " [0.0759645 ]\n",
      " [0.01151236]\n",
      " [0.11977473]\n",
      " [0.01307781]\n",
      " [0.13460281]\n",
      " [0.01964897]\n",
      " [0.02601002]\n",
      " [0.01123675]]\n"
     ]
    }
   ],
   "source": [
    "# Predict function\n",
    "def predict(model, params, X):\n",
    "    logits = model.apply({'params': params}, X)  # Get raw logits\n",
    "    return jax.nn.sigmoid(logits)  # Apply sigmoid to get probabilities\n",
    "\n",
    "# Example prediction on new data\n",
    "X_new = np.random.rand(10, X_train_arr.shape[1])  # 10 new samples with the same number of features as the training data\n",
    "X_new = jnp.array(X_new, dtype=jnp.float32)\n",
    "\n",
    "# Get predictions (probabilities)\n",
    "predictions = predict(SimpleMLP(hidden_size=64, output_size=1), train_state.params, X_new)\n",
    "print(predictions)"
   ]
  }
 ],
 "metadata": {
  "kernelspec": {
   "display_name": "DL",
   "language": "python",
   "name": "python3"
  },
  "language_info": {
   "codemirror_mode": {
    "name": "ipython",
    "version": 3
   },
   "file_extension": ".py",
   "mimetype": "text/x-python",
   "name": "python",
   "nbconvert_exporter": "python",
   "pygments_lexer": "ipython3",
   "version": "3.11.9"
  }
 },
 "nbformat": 4,
 "nbformat_minor": 2
}
