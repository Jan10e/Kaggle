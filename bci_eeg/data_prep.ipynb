{
 "cells": [
  {
   "cell_type": "markdown",
   "metadata": {},
   "source": [
    "# Import Data\n",
    "Source: https://github.com/BCI-I/BCII-IDUN-Challenge-tutorials/blob/main/01_data_preparation.ipynb"
   ]
  },
  {
   "cell_type": "code",
   "execution_count": null,
   "metadata": {},
   "outputs": [],
   "source": [
    "import numpy as np\n",
    "from pathlib import Path\n",
    "import matplotlib.pyplot as plt\n",
    "import pandas as pd\n",
    "import mne\n",
    "import scipy\n",
    "import torch\n",
    "\n",
    "from utils import load_eeg, load_labels, plot_eeg, get_event_epochs, markers\n"
   ]
  },
  {
   "cell_type": "code",
   "execution_count": 14,
   "metadata": {},
   "outputs": [
    {
     "name": "stdout",
     "output_type": "stream",
     "text": [
      "/Users/jantinebroek/Projects/kaggle/bci_eeg\n"
     ]
    }
   ],
   "source": [
    "# check current working directory\n",
    "print(Path.cwd())\n",
    "\n",
    "# data_dir = Path(\"~/Data/bci-i-idun-eeg-analysis-challenge\")\n",
    "data_dir = Path(\"~/Data\").expanduser() / \"bci-i-idun-eeg-analysis-challenge\"\n",
    "data_dir.exists()\n",
    "\n",
    "# load the data\n",
    "SUBJECT = \"S001\"  # [S001-3 are in the training set, S004 is in the test set]"
   ]
  },
  {
   "cell_type": "code",
   "execution_count": 15,
   "metadata": {},
   "outputs": [
    {
     "name": "stdout",
     "output_type": "stream",
     "text": [
      "Creating RawArray with float64 data, n_channels=1, n_times=5394412\n",
      "    Range : 0 ... 5394411 =      0.000 ... 21577.644 secs\n",
      "Ready.\n",
      "    Range : 0 ... 5394411 =      0.000 ... 21577.644 secs\n",
      "Ready.\n",
      "<Info | 7 non-empty values\n",
      " bads: []\n",
      " ch_names: EEG1\n",
      " chs: 1 EEG\n",
      " custom_ref_applied: False\n",
      " highpass: 0.0 Hz\n",
      " lowpass: 125.0 Hz\n",
      " meas_date: unspecified\n",
      " nchan: 1\n",
      " projs: []\n",
      " sfreq: 250.0 Hz\n",
      ">\n"
     ]
    }
   ],
   "source": [
    "# load the EEG data\n",
    "eeg = load_eeg(data_dir, SUBJECT)"
   ]
  },
  {
   "cell_type": "code",
   "execution_count": 16,
   "metadata": {},
   "outputs": [
    {
     "data": {
      "text/html": [
       "<div>\n",
       "<style scoped>\n",
       "    .dataframe tbody tr th:only-of-type {\n",
       "        vertical-align: middle;\n",
       "    }\n",
       "\n",
       "    .dataframe tbody tr th {\n",
       "        vertical-align: top;\n",
       "    }\n",
       "\n",
       "    .dataframe thead th {\n",
       "        text-align: right;\n",
       "    }\n",
       "</style>\n",
       "<table border=\"1\" class=\"dataframe\">\n",
       "  <thead>\n",
       "    <tr style=\"text-align: right;\">\n",
       "      <th></th>\n",
       "      <th>Marker</th>\n",
       "      <th>Timestamp_samples</th>\n",
       "      <th>Epoch</th>\n",
       "    </tr>\n",
       "  </thead>\n",
       "  <tbody>\n",
       "    <tr>\n",
       "      <th>0</th>\n",
       "      <td>REM</td>\n",
       "      <td>38643</td>\n",
       "      <td>6</td>\n",
       "    </tr>\n",
       "    <tr>\n",
       "      <th>1</th>\n",
       "      <td>REM</td>\n",
       "      <td>39196</td>\n",
       "      <td>6</td>\n",
       "    </tr>\n",
       "    <tr>\n",
       "      <th>2</th>\n",
       "      <td>REM</td>\n",
       "      <td>39404</td>\n",
       "      <td>6</td>\n",
       "    </tr>\n",
       "    <tr>\n",
       "      <th>3</th>\n",
       "      <td>REM</td>\n",
       "      <td>40046</td>\n",
       "      <td>6</td>\n",
       "    </tr>\n",
       "    <tr>\n",
       "      <th>4</th>\n",
       "      <td>REM</td>\n",
       "      <td>40725</td>\n",
       "      <td>6</td>\n",
       "    </tr>\n",
       "  </tbody>\n",
       "</table>\n",
       "</div>"
      ],
      "text/plain": [
       "  Marker  Timestamp_samples  Epoch\n",
       "0    REM              38643      6\n",
       "1    REM              39196      6\n",
       "2    REM              39404      6\n",
       "3    REM              40046      6\n",
       "4    REM              40725      6"
      ]
     },
     "execution_count": 16,
     "metadata": {},
     "output_type": "execute_result"
    }
   ],
   "source": [
    "# load the labels\n",
    "labels = load_labels(data_dir, SUBJECT)\n",
    "labels.head()"
   ]
  },
  {
   "cell_type": "code",
   "execution_count": null,
   "metadata": {},
   "outputs": [],
   "source": [
    "## ANY PREPROCESSING STEPS APPLIED TO EEG SHOULD HAPPEN HERE\n"
   ]
  },
  {
   "cell_type": "code",
   "execution_count": 17,
   "metadata": {},
   "outputs": [
    {
     "ename": "NameError",
     "evalue": "name 'plot_eeg' is not defined",
     "output_type": "error",
     "traceback": [
      "\u001b[0;31m---------------------------------------------------------------------------\u001b[0m",
      "\u001b[0;31mNameError\u001b[0m                                 Traceback (most recent call last)",
      "Cell \u001b[0;32mIn[17], line 2\u001b[0m\n\u001b[1;32m      1\u001b[0m \u001b[38;5;66;03m# this function plots the EEG data. You can pass a start/end time in minutes to zoom in on a particular time window\u001b[39;00m\n\u001b[0;32m----> 2\u001b[0m \u001b[43mplot_eeg\u001b[49m(eeg, \u001b[38;5;124m'\u001b[39m\u001b[38;5;124mS002\u001b[39m\u001b[38;5;124m'\u001b[39m, \u001b[38;5;241m40\u001b[39m, \u001b[38;5;241m45\u001b[39m)[\u001b[38;5;241m0\u001b[39m]\n",
      "\u001b[0;31mNameError\u001b[0m: name 'plot_eeg' is not defined"
     ]
    }
   ],
   "source": [
    "# this function plots the EEG data. You can pass a start/end time in minutes to zoom in on a particular time window\n",
    "plot_eeg(eeg, 'S002', 40, 45)[0]"
   ]
  },
  {
   "cell_type": "code",
   "execution_count": null,
   "metadata": {},
   "outputs": [],
   "source": []
  }
 ],
 "metadata": {
  "kernelspec": {
   "display_name": "DL",
   "language": "python",
   "name": "python3"
  },
  "language_info": {
   "codemirror_mode": {
    "name": "ipython",
    "version": 3
   },
   "file_extension": ".py",
   "mimetype": "text/x-python",
   "name": "python",
   "nbconvert_exporter": "python",
   "pygments_lexer": "ipython3",
   "version": "3.11.9"
  }
 },
 "nbformat": 4,
 "nbformat_minor": 2
}
